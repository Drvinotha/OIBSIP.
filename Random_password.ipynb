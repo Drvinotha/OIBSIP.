{
  "nbformat": 4,
  "nbformat_minor": 0,
  "metadata": {
    "colab": {
      "provenance": [],
      "authorship_tag": "ABX9TyNF50PSe6HSXaxFvBlLuZTR",
      "include_colab_link": true
    },
    "kernelspec": {
      "name": "python3",
      "display_name": "Python 3"
    },
    "language_info": {
      "name": "python"
    }
  },
  "cells": [
    {
      "cell_type": "markdown",
      "metadata": {
        "id": "view-in-github",
        "colab_type": "text"
      },
      "source": [
        "<a href=\"https://colab.research.google.com/github/Drvinotha/OIBSIP./blob/main/Random_password.ipynb\" target=\"_parent\"><img src=\"https://colab.research.google.com/assets/colab-badge.svg\" alt=\"Open In Colab\"/></a>"
      ]
    },
    {
      "cell_type": "code",
      "execution_count": null,
      "metadata": {
        "id": "wBPExDgA22Tj"
      },
      "outputs": [],
      "source": [
        "import string\n",
        "import random\n",
        "length = int(input(\"Enter the length of the password:\"))\n",
        "lower = string.ascii_lowercase\n",
        "upper = string.ascii_uppercase\n",
        "num =string.digits\n",
        "symbols = string.punctuation\n",
        "all_chars = lower+upper+num+symbols\n",
        "import random\n",
        "import string\n",
        "\n",
        "password= random.choice(string.ascii_lowercase)+ random.choice(string.ascii_uppercase) + random.choice(string.punctuation)\n",
        "password += ''.join(random.choice(string.ascii_letters + string.digits + string.punctuation) for _ in range(length-4))\n",
        "password_list = list(password)\n",
        "random.shuffle(password_list)\n",
        "password=''.join(password_list)\n",
        "print(\"Generated password:\",password)\n",
        ""
      ]
    }
  ]
}