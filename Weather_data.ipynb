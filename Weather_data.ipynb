{
  "nbformat": 4,
  "nbformat_minor": 0,
  "metadata": {
    "colab": {
      "provenance": [],
      "authorship_tag": "ABX9TyNfuSVGGhpBXVXWdG5Q83nw",
      "include_colab_link": true
    },
    "kernelspec": {
      "name": "python3",
      "display_name": "Python 3"
    },
    "language_info": {
      "name": "python"
    }
  },
  "cells": [
    {
      "cell_type": "markdown",
      "metadata": {
        "id": "view-in-github",
        "colab_type": "text"
      },
      "source": [
        "<a href=\"https://colab.research.google.com/github/Drvinotha/OIBSIP./blob/main/Weather_data.ipynb\" target=\"_parent\"><img src=\"https://colab.research.google.com/assets/colab-badge.svg\" alt=\"Open In Colab\"/></a>"
      ]
    },
    {
      "cell_type": "code",
      "execution_count": null,
      "metadata": {
        "colab": {
          "base_uri": "https://localhost:8080/"
        },
        "id": "y0aECeNZj-Eo",
        "outputId": "b6d9b12f-c49f-4961-9974-e0c29e3c7e33"
      },
      "outputs": [
        {
          "output_type": "stream",
          "name": "stdout",
          "text": [
            "Enter city name or ZIP code: Salem\n",
            "Weather data not available.\n"
          ]
        }
      ],
      "source": [
        "import requests\n",
        "\n",
        "def get_weather_data(location):\n",
        "    api_key = '867ffdcc2ca2448d73e94b87f2eb6fc9'\n",
        "\n",
        "    url= f'http://api.openweathermap.org/data/2.5/weather?q=(location)&appid=(api_key)&units=metric'\n",
        "\n",
        "    response = requests.get(url)\n",
        "    if response.status_code  == 200:\n",
        "\n",
        "      data = response.json()\n",
        "\n",
        "      weather_info = {\n",
        "         'temperature' : data['main']['temp'],\n",
        "         'humidity': data['main']['humidity'],\n",
        "         'description': data['weather'][0]['description'],\n",
        "      }\n",
        "      return weather_info\n",
        "      print(\"Error: Failed to fetch weather data.\")\n",
        "      return None\n",
        "\n",
        "def main():\n",
        "\n",
        "   location = input(\"Enter city name or ZIP code: \")\n",
        "   weather_data = get_weather_data(location)\n",
        "\n",
        "   if weather_data:\n",
        "       print(f\"Weather in {location}:\")\n",
        "       print(f\"Temperature: {weather_data['temperature']}°C\")\n",
        "       print(f\"Humidity: {weather_data['humidity']}%\")\n",
        "       print(f\"Weather Description: {weather_data['description']}\")\n",
        "   else:\n",
        "      print(\"Weather data not available.\")\n",
        "\n",
        "if __name__ == \"__main__\":\n",
        "   main()"
      ]
    }
  ]
}